{
 "cells": [
  {
   "cell_type": "code",
   "execution_count": 4,
   "metadata": {},
   "outputs": [],
   "source": [
    "import pandas as pd\n",
    "import numpy as np\n",
    "from scipy.interpolate import griddata\n",
    "from scipy.interpolate.interpolate import interp1d\n",
    "import plotly.graph_objects as go"
   ]
  },
  {
   "cell_type": "code",
   "execution_count": 7,
   "metadata": {},
   "outputs": [],
   "source": [
    "in_folder = r'airfoil_data/'"
   ]
  },
  {
   "cell_type": "code",
   "execution_count": 11,
   "metadata": {},
   "outputs": [],
   "source": [
    "df1 = pd.read_csv(in_folder + '/NACA  2412_data_aoa-cl_1.csv')\n",
    "df2 = pd.read_csv(in_folder +'/NACA  2415_data_aoa-cl_1.csv')\n",
    "df3 = pd.read_csv(in_folder +'/NACA  2418_data_aoa-cl_1.csv')\n",
    "df4 = pd.read_csv(in_folder +'/NACA  2421_data_aoa-cl_1.csv')\n",
    "df5 = pd.read_csv(in_folder +'/NACA  2424_data_aoa-cl_1.csv')\n",
    "df1['thickness'] = 12\n",
    "df2['thickness'] = 15\n",
    "df3['thickness'] = 18\n",
    "df4['thickness'] = 21\n",
    "df5['thickness'] = 24\n"
   ]
  },
  {
   "cell_type": "code",
   "execution_count": 25,
   "metadata": {},
   "outputs": [],
   "source": [
    "y = interp1d(df1.aoa, df1.cl, kind = 'cubic', fill_value='extrapolate')\n",
    "x_vals = np.linspace(-9, 21, 101)\n",
    "y(x_vals)\n",
    "df1 = pd.DataFrame({ 'aoa': x_vals, 'cl': y(x_vals)})\n",
    "df1['thickness'] = 12\n",
    "df5 = df5.sort_values(by='aoa')"
   ]
  },
  {
   "cell_type": "code",
   "execution_count": 26,
   "metadata": {},
   "outputs": [],
   "source": [
    "# df1 = pd.read_csv('data/1408_cz.csv')\n",
    "# df2 = pd.read_csv('data/1410_cz.csv')\n",
    "# df3 = pd.read_csv('data/1412_cz.csv')\n",
    "# df1['thickness'] = 8\n",
    "# df2['thickness'] = 10\n",
    "# df3['thickness'] = 12"
   ]
  },
  {
   "cell_type": "code",
   "execution_count": 27,
   "metadata": {},
   "outputs": [],
   "source": [
    "def layout():\n",
    "   camera = dict(eye=dict(x=0.1, y=-2, z=0.1))\n",
    "   scene = dict(\n",
    "      xaxis = dict(title='Alpha'),\n",
    "      yaxis = dict(title='Thickness'),\n",
    "      zaxis = dict(title='Cz')\n",
    "   )\n",
    "   legend = dict(font = {'size': 12}, itemsizing = 'trace')\n",
    "   return go.Layout(margin=dict(l=0, r=0, b=0, t=0), \n",
    "                     width=1024, height=768, \n",
    "                     scene=scene,\n",
    "                     scene_camera=camera,\n",
    "                     legend_title_text='Data',\n",
    "                     legend=legend)\n",
    "\n",
    "def plot2d():\n",
    "        fig = go.Figure(layout=go.Layout(xaxis = dict(title='Alpha'), yaxis = dict(title='Cz')))\n",
    "        fig.add_trace(go.Scatter(x=df1['aoa'], \n",
    "                                   y=df1['cl'],\n",
    "                                   mode='lines',\n",
    "                                   name='2412'))\n",
    "        fig.add_trace(go.Scatter(x=df2['aoa'], \n",
    "                                   y=df2['cl'],\n",
    "                                   mode='lines',\n",
    "                                   name='1415'))\n",
    "        fig.add_trace(go.Scatter(x=df3['aoa'], \n",
    "                                   y=df3['cl'],\n",
    "                                   mode='lines',\n",
    "                                   name='2418'))\n",
    "        fig.add_trace(go.Scatter(x=df4['aoa'], \n",
    "                                   y=df4['cl'],\n",
    "                                   mode='lines',\n",
    "                                   name='2421'))\n",
    "        fig.add_trace(go.Scatter(x=df5['aoa'], \n",
    "                                   y=df5['cl'],\n",
    "                                   mode='lines',\n",
    "                                   name='2424'))\n",
    "        fig.show()\n",
    "\n",
    "def plot3d():\n",
    "        fig = go.Figure(layout=layout())\n",
    "        fig.add_trace(go.Scatter3d(x=df1['aoa'], \n",
    "                                   y=df1.thickness,\n",
    "                                   z=df1['cl'],\n",
    "                                   mode='lines',\n",
    "                                   name='2412'))\n",
    "        fig.add_trace(go.Scatter3d(x=df2['aoa'], \n",
    "                                   y=df2.thickness,\n",
    "                                   z=df2['cl'], \n",
    "                                   mode='lines',\n",
    "                                   name='2415'))\n",
    "        fig.add_trace(go.Scatter3d(x=df3['aoa'], \n",
    "                                   y=df3.thickness,\n",
    "                                   z=df3['cl'], \n",
    "                                   mode='lines',\n",
    "                                   name='2418'))\n",
    "        fig.add_trace(go.Scatter3d(x=df4['aoa'], \n",
    "                                   y=df4.thickness,\n",
    "                                   z=df4['cl'], \n",
    "                                   mode='lines',\n",
    "                                   name='2421'))\n",
    "        fig.add_trace(go.Scatter3d(x=df5['aoa'], \n",
    "                                   y=df5.thickness,\n",
    "                                   z=df5['cl'], \n",
    "                                   mode='lines',\n",
    "                                   name='2424'))\n",
    "        fig.show()"
   ]
  },
  {
   "cell_type": "code",
   "execution_count": 28,
   "metadata": {},
   "outputs": [
    {
     "output_type": "display_data",
     "data": {
      "application/vnd.plotly.v1+json": {
       "config": {
        "plotlyServerURL": "https://plot.ly"
       },
       "data": [
        {
         "mode": "lines",
         "name": "2412",
         "type": "scatter",
         "x": [
          -9,
          -8.7,
          -8.4,
          -8.1,
          -7.8,
          -7.5,
          -7.2,
          -6.9,
          -6.6,
          -6.300000000000001,
          -6,
          -5.7,
          -5.4,
          -5.1,
          -4.8,
          -4.5,
          -4.2,
          -3.9000000000000004,
          -3.6000000000000005,
          -3.3,
          -3,
          -2.7,
          -2.4000000000000004,
          -2.1000000000000005,
          -1.8000000000000007,
          -1.5,
          -1.2000000000000002,
          -0.9000000000000004,
          -0.5999999999999996,
          -0.3000000000000007,
          0,
          0.29999999999999893,
          0.5999999999999996,
          0.9000000000000004,
          1.1999999999999993,
          1.5,
          1.799999999999999,
          2.0999999999999996,
          2.4000000000000004,
          2.6999999999999993,
          3,
          3.299999999999999,
          3.5999999999999996,
          3.9000000000000004,
          4.199999999999999,
          4.5,
          4.799999999999999,
          5.1,
          5.399999999999999,
          5.699999999999999,
          6,
          6.299999999999999,
          6.6,
          6.899999999999999,
          7.199999999999999,
          7.5,
          7.800000000000001,
          8.099999999999998,
          8.399999999999999,
          8.7,
          9,
          9.3,
          9.599999999999998,
          9.899999999999999,
          10.2,
          10.5,
          10.8,
          11.099999999999998,
          11.399999999999999,
          11.7,
          12,
          12.3,
          12.599999999999998,
          12.899999999999999,
          13.2,
          13.5,
          13.8,
          14.099999999999998,
          14.399999999999999,
          14.7,
          15,
          15.3,
          15.599999999999998,
          15.899999999999999,
          16.2,
          16.5,
          16.8,
          17.099999999999998,
          17.4,
          17.7,
          18,
          18.3,
          18.599999999999998,
          18.9,
          19.2,
          19.5,
          19.799999999999997,
          20.099999999999998,
          20.4,
          20.7,
          21
         ],
         "y": [
          -0.6832017788386048,
          -0.6407580041802352,
          -0.6000227168948078,
          -0.5609959169823231,
          -0.5236776044427802,
          -0.48806777927617956,
          -0.4541664414825213,
          -0.42197359106180543,
          -0.39148922801403163,
          -0.36271335233920027,
          -0.33564596403731084,
          -0.31028706310836407,
          -0.28663664955235924,
          -0.26354727092064945,
          -0.2380796600199404,
          -0.2100865116389879,
          -0.1795678257777921,
          -0.1465236024363531,
          -0.1109538416146707,
          -0.07285854331274491,
          -0.03399791234048883,
          0.0025837643665308795,
          0.03683273873481693,
          0.06874901076436933,
          0.0983325804551881,
          0.1255834478072732,
          0.15053863734332562,
          0.17587526553468935,
          0.20324443473260867,
          0.23264614493708302,
          0.2640803961481131,
          0.29754718836569805,
          0.3330465215898387,
          0.37004560277425647,
          0.40558573615693916,
          0.43921146255916754,
          0.4709227819809415,
          0.5007196944222614,
          0.5286021998831267,
          0.5545702983635377,
          0.5799447524451242,
          0.6062375584618706,
          0.6334504163347987,
          0.6615833260639072,
          0.6906362876491966,
          0.7206093010906676,
          0.7515023663883189,
          0.7824236346831555,
          0.8124241906108667,
          0.841503807760032,
          0.8696624861306516,
          0.8969002257227244,
          0.9232170265362517,
          0.9486128885712323,
          0.9739323849759833,
          1.0001915513336164,
          1.0273925097333136,
          1.0555352601750725,
          1.084619802658896,
          1.1146461371847836,
          1.1456132304584845,
          1.1763230578003745,
          1.2057112793253557,
          1.2337778950334295,
          1.2605229049245943,
          1.2859463089988519,
          1.3100481072562002,
          1.332833873764676,
          1.3544611068398216,
          1.375001672270729,
          1.3944555700573944,
          1.4128228001998209,
          1.430103362698006,
          1.4462972575519513,
          1.4614703126993185,
          1.4779475679663048,
          1.4968848770060674,
          1.5182822398186067,
          1.542139656403922,
          1.5684571267620155,
          1.5901784834563846,
          1.59420818039455,
          1.5804631291406261,
          1.5556703380068744,
          1.523283916593295,
          1.4847417560154705,
          1.4402980094164675,
          1.3899526767962858,
          1.3347278102340212,
          1.2840032860427169,
          1.2400470247817008,
          1.20285902645097,
          1.172439291050527,
          1.1487878185803693,
          1.131904609040498,
          1.1217896624309134,
          1.1184429787516148,
          1.121864558002603,
          1.1320544001838773,
          1.1490125052954385,
          1.1727388733372857
         ]
        },
        {
         "mode": "lines",
         "name": "1415",
         "type": "scatter",
         "x": [
          24.5425,
          22.25,
          20.3808,
          18.4806,
          16.354,
          14.3556,
          12.215,
          8.09102,
          6.04403,
          4.06195,
          0.030664999999999998,
          -4.3570199999999994,
          -6.14473,
          -8.25716,
          -10.2081
         ],
         "y": [
          1.01519,
          0.9940180000000001,
          1.05518,
          1.1576,
          1.27824,
          1.40555,
          1.28869,
          0.9707629999999999,
          0.7878649999999999,
          0.609905,
          0.188046,
          -0.243666,
          -0.426558,
          -0.632517,
          -0.868094
         ]
        },
        {
         "mode": "lines",
         "name": "2418",
         "type": "scatter",
         "x": [
          20.3625,
          18.3822,
          16.3741,
          14.465,
          12.1286,
          10.2432,
          7.9718100000000005,
          6.1199699999999995,
          4.01054,
          1.89973,
          -0.36822699999999997,
          -2.25083,
          -4.22618,
          -8.14611,
          -10.054,
          -12.4098
         ],
         "y": [
          1.21949,
          1.21769,
          1.28518,
          1.36582,
          1.28977,
          1.13471,
          1.00442,
          0.828117,
          0.650263,
          0.41819300000000004,
          0.24552100000000002,
          0.010402400000000001,
          -0.165363,
          -0.611953,
          -0.7923399999999999,
          -0.9478610000000001
         ]
        },
        {
         "mode": "lines",
         "name": "2421",
         "type": "scatter",
         "x": [
          24.5153,
          22.2958,
          20.3064,
          18.1859,
          16.2885,
          14.0713,
          12.2656,
          10.0043,
          8.194469999999999,
          6.05719,
          4.08245,
          1.91192,
          -0.031767000000000004,
          -2.17022,
          -3.98794,
          -6.16096,
          -10.3102,
          -12.2569,
          -14.3966
         ],
         "y": [
          1.0831,
          1.06184,
          1.1313600000000001,
          1.16953,
          1.1796200000000001,
          1.22938,
          1.17339,
          1.03979,
          0.92595,
          0.726202,
          0.557802,
          0.35303,
          0.176306,
          -0.018619999999999998,
          -0.235073,
          -0.458164,
          -0.8284229999999999,
          -1.02186,
          -1.20211
         ]
        },
        {
         "mode": "lines",
         "name": "2424",
         "type": "scatter",
         "x": [
          -14.5001,
          -12.3272,
          -10.3815,
          -8.40467,
          -4.19674,
          -2.4186900000000002,
          -0.125803,
          1.8106400000000002,
          3.90656,
          3.97039,
          5.83892,
          7.962680000000001,
          9.8276,
          12.2369,
          14.0023,
          15.061,
          16.0232,
          18.1072,
          20.3504
         ],
         "y": [
          -1.0186,
          -0.9064610000000001,
          -0.751854,
          -0.5842579999999999,
          -0.198719,
          -0.031604200000000006,
          0.159959,
          0.359468,
          0.578396,
          0.529442,
          0.7220850000000001,
          0.8672979999999999,
          1.00098,
          1.12805,
          1.18502,
          1.17687,
          1.15571,
          1.1280299999999999,
          1.09223
         ]
        }
       ],
       "layout": {
        "template": {
         "data": {
          "bar": [
           {
            "error_x": {
             "color": "#2a3f5f"
            },
            "error_y": {
             "color": "#2a3f5f"
            },
            "marker": {
             "line": {
              "color": "#E5ECF6",
              "width": 0.5
             }
            },
            "type": "bar"
           }
          ],
          "barpolar": [
           {
            "marker": {
             "line": {
              "color": "#E5ECF6",
              "width": 0.5
             }
            },
            "type": "barpolar"
           }
          ],
          "carpet": [
           {
            "aaxis": {
             "endlinecolor": "#2a3f5f",
             "gridcolor": "white",
             "linecolor": "white",
             "minorgridcolor": "white",
             "startlinecolor": "#2a3f5f"
            },
            "baxis": {
             "endlinecolor": "#2a3f5f",
             "gridcolor": "white",
             "linecolor": "white",
             "minorgridcolor": "white",
             "startlinecolor": "#2a3f5f"
            },
            "type": "carpet"
           }
          ],
          "choropleth": [
           {
            "colorbar": {
             "outlinewidth": 0,
             "ticks": ""
            },
            "type": "choropleth"
           }
          ],
          "contour": [
           {
            "colorbar": {
             "outlinewidth": 0,
             "ticks": ""
            },
            "colorscale": [
             [
              0,
              "#0d0887"
             ],
             [
              0.1111111111111111,
              "#46039f"
             ],
             [
              0.2222222222222222,
              "#7201a8"
             ],
             [
              0.3333333333333333,
              "#9c179e"
             ],
             [
              0.4444444444444444,
              "#bd3786"
             ],
             [
              0.5555555555555556,
              "#d8576b"
             ],
             [
              0.6666666666666666,
              "#ed7953"
             ],
             [
              0.7777777777777778,
              "#fb9f3a"
             ],
             [
              0.8888888888888888,
              "#fdca26"
             ],
             [
              1,
              "#f0f921"
             ]
            ],
            "type": "contour"
           }
          ],
          "contourcarpet": [
           {
            "colorbar": {
             "outlinewidth": 0,
             "ticks": ""
            },
            "type": "contourcarpet"
           }
          ],
          "heatmap": [
           {
            "colorbar": {
             "outlinewidth": 0,
             "ticks": ""
            },
            "colorscale": [
             [
              0,
              "#0d0887"
             ],
             [
              0.1111111111111111,
              "#46039f"
             ],
             [
              0.2222222222222222,
              "#7201a8"
             ],
             [
              0.3333333333333333,
              "#9c179e"
             ],
             [
              0.4444444444444444,
              "#bd3786"
             ],
             [
              0.5555555555555556,
              "#d8576b"
             ],
             [
              0.6666666666666666,
              "#ed7953"
             ],
             [
              0.7777777777777778,
              "#fb9f3a"
             ],
             [
              0.8888888888888888,
              "#fdca26"
             ],
             [
              1,
              "#f0f921"
             ]
            ],
            "type": "heatmap"
           }
          ],
          "heatmapgl": [
           {
            "colorbar": {
             "outlinewidth": 0,
             "ticks": ""
            },
            "colorscale": [
             [
              0,
              "#0d0887"
             ],
             [
              0.1111111111111111,
              "#46039f"
             ],
             [
              0.2222222222222222,
              "#7201a8"
             ],
             [
              0.3333333333333333,
              "#9c179e"
             ],
             [
              0.4444444444444444,
              "#bd3786"
             ],
             [
              0.5555555555555556,
              "#d8576b"
             ],
             [
              0.6666666666666666,
              "#ed7953"
             ],
             [
              0.7777777777777778,
              "#fb9f3a"
             ],
             [
              0.8888888888888888,
              "#fdca26"
             ],
             [
              1,
              "#f0f921"
             ]
            ],
            "type": "heatmapgl"
           }
          ],
          "histogram": [
           {
            "marker": {
             "colorbar": {
              "outlinewidth": 0,
              "ticks": ""
             }
            },
            "type": "histogram"
           }
          ],
          "histogram2d": [
           {
            "colorbar": {
             "outlinewidth": 0,
             "ticks": ""
            },
            "colorscale": [
             [
              0,
              "#0d0887"
             ],
             [
              0.1111111111111111,
              "#46039f"
             ],
             [
              0.2222222222222222,
              "#7201a8"
             ],
             [
              0.3333333333333333,
              "#9c179e"
             ],
             [
              0.4444444444444444,
              "#bd3786"
             ],
             [
              0.5555555555555556,
              "#d8576b"
             ],
             [
              0.6666666666666666,
              "#ed7953"
             ],
             [
              0.7777777777777778,
              "#fb9f3a"
             ],
             [
              0.8888888888888888,
              "#fdca26"
             ],
             [
              1,
              "#f0f921"
             ]
            ],
            "type": "histogram2d"
           }
          ],
          "histogram2dcontour": [
           {
            "colorbar": {
             "outlinewidth": 0,
             "ticks": ""
            },
            "colorscale": [
             [
              0,
              "#0d0887"
             ],
             [
              0.1111111111111111,
              "#46039f"
             ],
             [
              0.2222222222222222,
              "#7201a8"
             ],
             [
              0.3333333333333333,
              "#9c179e"
             ],
             [
              0.4444444444444444,
              "#bd3786"
             ],
             [
              0.5555555555555556,
              "#d8576b"
             ],
             [
              0.6666666666666666,
              "#ed7953"
             ],
             [
              0.7777777777777778,
              "#fb9f3a"
             ],
             [
              0.8888888888888888,
              "#fdca26"
             ],
             [
              1,
              "#f0f921"
             ]
            ],
            "type": "histogram2dcontour"
           }
          ],
          "mesh3d": [
           {
            "colorbar": {
             "outlinewidth": 0,
             "ticks": ""
            },
            "type": "mesh3d"
           }
          ],
          "parcoords": [
           {
            "line": {
             "colorbar": {
              "outlinewidth": 0,
              "ticks": ""
             }
            },
            "type": "parcoords"
           }
          ],
          "pie": [
           {
            "automargin": true,
            "type": "pie"
           }
          ],
          "scatter": [
           {
            "marker": {
             "colorbar": {
              "outlinewidth": 0,
              "ticks": ""
             }
            },
            "type": "scatter"
           }
          ],
          "scatter3d": [
           {
            "line": {
             "colorbar": {
              "outlinewidth": 0,
              "ticks": ""
             }
            },
            "marker": {
             "colorbar": {
              "outlinewidth": 0,
              "ticks": ""
             }
            },
            "type": "scatter3d"
           }
          ],
          "scattercarpet": [
           {
            "marker": {
             "colorbar": {
              "outlinewidth": 0,
              "ticks": ""
             }
            },
            "type": "scattercarpet"
           }
          ],
          "scattergeo": [
           {
            "marker": {
             "colorbar": {
              "outlinewidth": 0,
              "ticks": ""
             }
            },
            "type": "scattergeo"
           }
          ],
          "scattergl": [
           {
            "marker": {
             "colorbar": {
              "outlinewidth": 0,
              "ticks": ""
             }
            },
            "type": "scattergl"
           }
          ],
          "scattermapbox": [
           {
            "marker": {
             "colorbar": {
              "outlinewidth": 0,
              "ticks": ""
             }
            },
            "type": "scattermapbox"
           }
          ],
          "scatterpolar": [
           {
            "marker": {
             "colorbar": {
              "outlinewidth": 0,
              "ticks": ""
             }
            },
            "type": "scatterpolar"
           }
          ],
          "scatterpolargl": [
           {
            "marker": {
             "colorbar": {
              "outlinewidth": 0,
              "ticks": ""
             }
            },
            "type": "scatterpolargl"
           }
          ],
          "scatterternary": [
           {
            "marker": {
             "colorbar": {
              "outlinewidth": 0,
              "ticks": ""
             }
            },
            "type": "scatterternary"
           }
          ],
          "surface": [
           {
            "colorbar": {
             "outlinewidth": 0,
             "ticks": ""
            },
            "colorscale": [
             [
              0,
              "#0d0887"
             ],
             [
              0.1111111111111111,
              "#46039f"
             ],
             [
              0.2222222222222222,
              "#7201a8"
             ],
             [
              0.3333333333333333,
              "#9c179e"
             ],
             [
              0.4444444444444444,
              "#bd3786"
             ],
             [
              0.5555555555555556,
              "#d8576b"
             ],
             [
              0.6666666666666666,
              "#ed7953"
             ],
             [
              0.7777777777777778,
              "#fb9f3a"
             ],
             [
              0.8888888888888888,
              "#fdca26"
             ],
             [
              1,
              "#f0f921"
             ]
            ],
            "type": "surface"
           }
          ],
          "table": [
           {
            "cells": {
             "fill": {
              "color": "#EBF0F8"
             },
             "line": {
              "color": "white"
             }
            },
            "header": {
             "fill": {
              "color": "#C8D4E3"
             },
             "line": {
              "color": "white"
             }
            },
            "type": "table"
           }
          ]
         },
         "layout": {
          "annotationdefaults": {
           "arrowcolor": "#2a3f5f",
           "arrowhead": 0,
           "arrowwidth": 1
          },
          "coloraxis": {
           "colorbar": {
            "outlinewidth": 0,
            "ticks": ""
           }
          },
          "colorscale": {
           "diverging": [
            [
             0,
             "#8e0152"
            ],
            [
             0.1,
             "#c51b7d"
            ],
            [
             0.2,
             "#de77ae"
            ],
            [
             0.3,
             "#f1b6da"
            ],
            [
             0.4,
             "#fde0ef"
            ],
            [
             0.5,
             "#f7f7f7"
            ],
            [
             0.6,
             "#e6f5d0"
            ],
            [
             0.7,
             "#b8e186"
            ],
            [
             0.8,
             "#7fbc41"
            ],
            [
             0.9,
             "#4d9221"
            ],
            [
             1,
             "#276419"
            ]
           ],
           "sequential": [
            [
             0,
             "#0d0887"
            ],
            [
             0.1111111111111111,
             "#46039f"
            ],
            [
             0.2222222222222222,
             "#7201a8"
            ],
            [
             0.3333333333333333,
             "#9c179e"
            ],
            [
             0.4444444444444444,
             "#bd3786"
            ],
            [
             0.5555555555555556,
             "#d8576b"
            ],
            [
             0.6666666666666666,
             "#ed7953"
            ],
            [
             0.7777777777777778,
             "#fb9f3a"
            ],
            [
             0.8888888888888888,
             "#fdca26"
            ],
            [
             1,
             "#f0f921"
            ]
           ],
           "sequentialminus": [
            [
             0,
             "#0d0887"
            ],
            [
             0.1111111111111111,
             "#46039f"
            ],
            [
             0.2222222222222222,
             "#7201a8"
            ],
            [
             0.3333333333333333,
             "#9c179e"
            ],
            [
             0.4444444444444444,
             "#bd3786"
            ],
            [
             0.5555555555555556,
             "#d8576b"
            ],
            [
             0.6666666666666666,
             "#ed7953"
            ],
            [
             0.7777777777777778,
             "#fb9f3a"
            ],
            [
             0.8888888888888888,
             "#fdca26"
            ],
            [
             1,
             "#f0f921"
            ]
           ]
          },
          "colorway": [
           "#636efa",
           "#EF553B",
           "#00cc96",
           "#ab63fa",
           "#FFA15A",
           "#19d3f3",
           "#FF6692",
           "#B6E880",
           "#FF97FF",
           "#FECB52"
          ],
          "font": {
           "color": "#2a3f5f"
          },
          "geo": {
           "bgcolor": "white",
           "lakecolor": "white",
           "landcolor": "#E5ECF6",
           "showlakes": true,
           "showland": true,
           "subunitcolor": "white"
          },
          "hoverlabel": {
           "align": "left"
          },
          "hovermode": "closest",
          "mapbox": {
           "style": "light"
          },
          "paper_bgcolor": "white",
          "plot_bgcolor": "#E5ECF6",
          "polar": {
           "angularaxis": {
            "gridcolor": "white",
            "linecolor": "white",
            "ticks": ""
           },
           "bgcolor": "#E5ECF6",
           "radialaxis": {
            "gridcolor": "white",
            "linecolor": "white",
            "ticks": ""
           }
          },
          "scene": {
           "xaxis": {
            "backgroundcolor": "#E5ECF6",
            "gridcolor": "white",
            "gridwidth": 2,
            "linecolor": "white",
            "showbackground": true,
            "ticks": "",
            "zerolinecolor": "white"
           },
           "yaxis": {
            "backgroundcolor": "#E5ECF6",
            "gridcolor": "white",
            "gridwidth": 2,
            "linecolor": "white",
            "showbackground": true,
            "ticks": "",
            "zerolinecolor": "white"
           },
           "zaxis": {
            "backgroundcolor": "#E5ECF6",
            "gridcolor": "white",
            "gridwidth": 2,
            "linecolor": "white",
            "showbackground": true,
            "ticks": "",
            "zerolinecolor": "white"
           }
          },
          "shapedefaults": {
           "line": {
            "color": "#2a3f5f"
           }
          },
          "ternary": {
           "aaxis": {
            "gridcolor": "white",
            "linecolor": "white",
            "ticks": ""
           },
           "baxis": {
            "gridcolor": "white",
            "linecolor": "white",
            "ticks": ""
           },
           "bgcolor": "#E5ECF6",
           "caxis": {
            "gridcolor": "white",
            "linecolor": "white",
            "ticks": ""
           }
          },
          "title": {
           "x": 0.05
          },
          "xaxis": {
           "automargin": true,
           "gridcolor": "white",
           "linecolor": "white",
           "ticks": "",
           "title": {
            "standoff": 15
           },
           "zerolinecolor": "white",
           "zerolinewidth": 2
          },
          "yaxis": {
           "automargin": true,
           "gridcolor": "white",
           "linecolor": "white",
           "ticks": "",
           "title": {
            "standoff": 15
           },
           "zerolinecolor": "white",
           "zerolinewidth": 2
          }
         }
        },
        "xaxis": {
         "title": {
          "text": "Alpha"
         }
        },
        "yaxis": {
         "title": {
          "text": "Cz"
         }
        }
       }
      }
     },
     "metadata": {}
    }
   ],
   "source": [
    "plot2d()"
   ]
  },
  {
   "cell_type": "code",
   "execution_count": 6,
   "metadata": {},
   "outputs": [
    {
     "data": {
      "application/vnd.plotly.v1+json": {
       "config": {
        "plotlyServerURL": "https://plot.ly"
       },
       "data": [
        {
         "mode": "lines",
         "name": "2412",
         "type": "scatter3d",
         "x": [
          20.437,
          18.2468,
          16.3122,
          15.7967,
          15.2815,
          14.22,
          12.0644,
          10.0049,
          7.97697,
          5.8516699999999995,
          3.75774,
          1.66304,
          -0.174796,
          -2.30335,
          -4.2074,
          -6.43433,
          -8.436869999999999
         ],
         "y": [
          12,
          12,
          12,
          12,
          12,
          12,
          12,
          12,
          12,
          12,
          12,
          12,
          12,
          12,
          12,
          12,
          12
         ],
         "z": [
          1.13378,
          1.20896,
          1.50956,
          1.5650899999999999,
          1.59448,
          1.5275299999999998,
          1.39849,
          1.24328,
          1.04388,
          0.8558549999999999,
          0.6481279999999999,
          0.456683,
          0.245518,
          0.047369999999999995,
          -0.180351,
          -0.37538699999999997,
          -0.604937
         ]
        },
        {
         "mode": "lines",
         "name": "2415",
         "type": "scatter3d",
         "x": [
          24.5425,
          22.25,
          20.3808,
          18.4806,
          16.354,
          14.3556,
          12.215,
          8.09102,
          6.04403,
          4.06195,
          0.030664999999999998,
          -4.3570199999999994,
          -6.14473,
          -8.25716,
          -10.2081
         ],
         "y": [
          15,
          15,
          15,
          15,
          15,
          15,
          15,
          15,
          15,
          15,
          15,
          15,
          15,
          15,
          15
         ],
         "z": [
          1.01519,
          0.9940180000000001,
          1.05518,
          1.1576,
          1.27824,
          1.40555,
          1.28869,
          0.9707629999999999,
          0.7878649999999999,
          0.609905,
          0.188046,
          -0.243666,
          -0.426558,
          -0.632517,
          -0.868094
         ]
        },
        {
         "mode": "lines",
         "name": "2418",
         "type": "scatter3d",
         "x": [
          20.3625,
          18.3822,
          16.3741,
          14.465,
          12.1286,
          10.2432,
          7.9718100000000005,
          6.1199699999999995,
          4.01054,
          1.89973,
          -0.36822699999999997,
          -2.25083,
          -4.22618,
          -8.14611,
          -10.054,
          -12.4098
         ],
         "y": [
          18,
          18,
          18,
          18,
          18,
          18,
          18,
          18,
          18,
          18,
          18,
          18,
          18,
          18,
          18,
          18
         ],
         "z": [
          1.21949,
          1.21769,
          1.28518,
          1.36582,
          1.28977,
          1.13471,
          1.00442,
          0.828117,
          0.650263,
          0.41819300000000004,
          0.24552100000000002,
          0.010402,
          -0.165363,
          -0.611953,
          -0.7923399999999999,
          -0.9478610000000001
         ]
        },
        {
         "mode": "lines",
         "name": "2421",
         "type": "scatter3d",
         "x": [
          24.5153,
          22.2958,
          20.3064,
          18.1859,
          16.2885,
          14.0713,
          12.2656,
          10.0043,
          8.194469999999999,
          6.05719,
          4.08245,
          1.91192,
          -0.031767000000000004,
          -2.17022,
          -3.98794,
          -6.16096,
          -10.3102,
          -12.2569,
          -14.3966
         ],
         "y": [
          21,
          21,
          21,
          21,
          21,
          21,
          21,
          21,
          21,
          21,
          21,
          21,
          21,
          21,
          21,
          21,
          21,
          21,
          21
         ],
         "z": [
          1.0831,
          1.06184,
          1.1313600000000001,
          1.16953,
          1.1796200000000001,
          1.22938,
          1.17339,
          1.03979,
          0.92595,
          0.726202,
          0.557802,
          0.35303,
          0.176306,
          -0.018619999999999998,
          -0.235073,
          -0.458164,
          -0.8284229999999999,
          -1.02186,
          -1.20211
         ]
        },
        {
         "mode": "lines",
         "name": "2424",
         "type": "scatter3d",
         "x": [
          20.3504,
          18.1072,
          16.0232,
          15.061,
          14.0023,
          12.2369,
          9.8276,
          7.962680000000001,
          5.83892,
          3.90656,
          3.97039,
          1.8106400000000002,
          -0.125803,
          -2.4186900000000002,
          -4.19674,
          -8.40467,
          -10.3815,
          -12.3272,
          -14.5001
         ],
         "y": [
          24,
          24,
          24,
          24,
          24,
          24,
          24,
          24,
          24,
          24,
          24,
          24,
          24,
          24,
          24,
          24,
          24,
          24,
          24
         ],
         "z": [
          1.09223,
          1.1280299999999999,
          1.15571,
          1.17687,
          1.18502,
          1.12805,
          1.00098,
          0.8672979999999999,
          0.7220850000000001,
          0.578396,
          0.529442,
          0.359468,
          0.159959,
          -0.031604,
          -0.198719,
          -0.5842579999999999,
          -0.751854,
          -0.9064610000000001,
          -1.0186
         ]
        }
       ],
       "layout": {
        "height": 768,
        "legend": {
         "font": {
          "size": 12
         },
         "itemsizing": "trace",
         "title": {
          "text": "Data"
         }
        },
        "margin": {
         "b": 0,
         "l": 0,
         "r": 0,
         "t": 0
        },
        "scene": {
         "camera": {
          "eye": {
           "x": 0.1,
           "y": -2,
           "z": 0.1
          }
         },
         "xaxis": {
          "title": {
           "text": "Alpha"
          }
         },
         "yaxis": {
          "title": {
           "text": "Thickness"
          }
         },
         "zaxis": {
          "title": {
           "text": "Cz"
          }
         }
        },
        "template": {
         "data": {
          "bar": [
           {
            "error_x": {
             "color": "#2a3f5f"
            },
            "error_y": {
             "color": "#2a3f5f"
            },
            "marker": {
             "line": {
              "color": "#E5ECF6",
              "width": 0.5
             }
            },
            "type": "bar"
           }
          ],
          "barpolar": [
           {
            "marker": {
             "line": {
              "color": "#E5ECF6",
              "width": 0.5
             }
            },
            "type": "barpolar"
           }
          ],
          "carpet": [
           {
            "aaxis": {
             "endlinecolor": "#2a3f5f",
             "gridcolor": "white",
             "linecolor": "white",
             "minorgridcolor": "white",
             "startlinecolor": "#2a3f5f"
            },
            "baxis": {
             "endlinecolor": "#2a3f5f",
             "gridcolor": "white",
             "linecolor": "white",
             "minorgridcolor": "white",
             "startlinecolor": "#2a3f5f"
            },
            "type": "carpet"
           }
          ],
          "choropleth": [
           {
            "colorbar": {
             "outlinewidth": 0,
             "ticks": ""
            },
            "type": "choropleth"
           }
          ],
          "contour": [
           {
            "colorbar": {
             "outlinewidth": 0,
             "ticks": ""
            },
            "colorscale": [
             [
              0,
              "#0d0887"
             ],
             [
              0.1111111111111111,
              "#46039f"
             ],
             [
              0.2222222222222222,
              "#7201a8"
             ],
             [
              0.3333333333333333,
              "#9c179e"
             ],
             [
              0.4444444444444444,
              "#bd3786"
             ],
             [
              0.5555555555555556,
              "#d8576b"
             ],
             [
              0.6666666666666666,
              "#ed7953"
             ],
             [
              0.7777777777777778,
              "#fb9f3a"
             ],
             [
              0.8888888888888888,
              "#fdca26"
             ],
             [
              1,
              "#f0f921"
             ]
            ],
            "type": "contour"
           }
          ],
          "contourcarpet": [
           {
            "colorbar": {
             "outlinewidth": 0,
             "ticks": ""
            },
            "type": "contourcarpet"
           }
          ],
          "heatmap": [
           {
            "colorbar": {
             "outlinewidth": 0,
             "ticks": ""
            },
            "colorscale": [
             [
              0,
              "#0d0887"
             ],
             [
              0.1111111111111111,
              "#46039f"
             ],
             [
              0.2222222222222222,
              "#7201a8"
             ],
             [
              0.3333333333333333,
              "#9c179e"
             ],
             [
              0.4444444444444444,
              "#bd3786"
             ],
             [
              0.5555555555555556,
              "#d8576b"
             ],
             [
              0.6666666666666666,
              "#ed7953"
             ],
             [
              0.7777777777777778,
              "#fb9f3a"
             ],
             [
              0.8888888888888888,
              "#fdca26"
             ],
             [
              1,
              "#f0f921"
             ]
            ],
            "type": "heatmap"
           }
          ],
          "heatmapgl": [
           {
            "colorbar": {
             "outlinewidth": 0,
             "ticks": ""
            },
            "colorscale": [
             [
              0,
              "#0d0887"
             ],
             [
              0.1111111111111111,
              "#46039f"
             ],
             [
              0.2222222222222222,
              "#7201a8"
             ],
             [
              0.3333333333333333,
              "#9c179e"
             ],
             [
              0.4444444444444444,
              "#bd3786"
             ],
             [
              0.5555555555555556,
              "#d8576b"
             ],
             [
              0.6666666666666666,
              "#ed7953"
             ],
             [
              0.7777777777777778,
              "#fb9f3a"
             ],
             [
              0.8888888888888888,
              "#fdca26"
             ],
             [
              1,
              "#f0f921"
             ]
            ],
            "type": "heatmapgl"
           }
          ],
          "histogram": [
           {
            "marker": {
             "colorbar": {
              "outlinewidth": 0,
              "ticks": ""
             }
            },
            "type": "histogram"
           }
          ],
          "histogram2d": [
           {
            "colorbar": {
             "outlinewidth": 0,
             "ticks": ""
            },
            "colorscale": [
             [
              0,
              "#0d0887"
             ],
             [
              0.1111111111111111,
              "#46039f"
             ],
             [
              0.2222222222222222,
              "#7201a8"
             ],
             [
              0.3333333333333333,
              "#9c179e"
             ],
             [
              0.4444444444444444,
              "#bd3786"
             ],
             [
              0.5555555555555556,
              "#d8576b"
             ],
             [
              0.6666666666666666,
              "#ed7953"
             ],
             [
              0.7777777777777778,
              "#fb9f3a"
             ],
             [
              0.8888888888888888,
              "#fdca26"
             ],
             [
              1,
              "#f0f921"
             ]
            ],
            "type": "histogram2d"
           }
          ],
          "histogram2dcontour": [
           {
            "colorbar": {
             "outlinewidth": 0,
             "ticks": ""
            },
            "colorscale": [
             [
              0,
              "#0d0887"
             ],
             [
              0.1111111111111111,
              "#46039f"
             ],
             [
              0.2222222222222222,
              "#7201a8"
             ],
             [
              0.3333333333333333,
              "#9c179e"
             ],
             [
              0.4444444444444444,
              "#bd3786"
             ],
             [
              0.5555555555555556,
              "#d8576b"
             ],
             [
              0.6666666666666666,
              "#ed7953"
             ],
             [
              0.7777777777777778,
              "#fb9f3a"
             ],
             [
              0.8888888888888888,
              "#fdca26"
             ],
             [
              1,
              "#f0f921"
             ]
            ],
            "type": "histogram2dcontour"
           }
          ],
          "mesh3d": [
           {
            "colorbar": {
             "outlinewidth": 0,
             "ticks": ""
            },
            "type": "mesh3d"
           }
          ],
          "parcoords": [
           {
            "line": {
             "colorbar": {
              "outlinewidth": 0,
              "ticks": ""
             }
            },
            "type": "parcoords"
           }
          ],
          "pie": [
           {
            "automargin": true,
            "type": "pie"
           }
          ],
          "scatter": [
           {
            "marker": {
             "colorbar": {
              "outlinewidth": 0,
              "ticks": ""
             }
            },
            "type": "scatter"
           }
          ],
          "scatter3d": [
           {
            "line": {
             "colorbar": {
              "outlinewidth": 0,
              "ticks": ""
             }
            },
            "marker": {
             "colorbar": {
              "outlinewidth": 0,
              "ticks": ""
             }
            },
            "type": "scatter3d"
           }
          ],
          "scattercarpet": [
           {
            "marker": {
             "colorbar": {
              "outlinewidth": 0,
              "ticks": ""
             }
            },
            "type": "scattercarpet"
           }
          ],
          "scattergeo": [
           {
            "marker": {
             "colorbar": {
              "outlinewidth": 0,
              "ticks": ""
             }
            },
            "type": "scattergeo"
           }
          ],
          "scattergl": [
           {
            "marker": {
             "colorbar": {
              "outlinewidth": 0,
              "ticks": ""
             }
            },
            "type": "scattergl"
           }
          ],
          "scattermapbox": [
           {
            "marker": {
             "colorbar": {
              "outlinewidth": 0,
              "ticks": ""
             }
            },
            "type": "scattermapbox"
           }
          ],
          "scatterpolar": [
           {
            "marker": {
             "colorbar": {
              "outlinewidth": 0,
              "ticks": ""
             }
            },
            "type": "scatterpolar"
           }
          ],
          "scatterpolargl": [
           {
            "marker": {
             "colorbar": {
              "outlinewidth": 0,
              "ticks": ""
             }
            },
            "type": "scatterpolargl"
           }
          ],
          "scatterternary": [
           {
            "marker": {
             "colorbar": {
              "outlinewidth": 0,
              "ticks": ""
             }
            },
            "type": "scatterternary"
           }
          ],
          "surface": [
           {
            "colorbar": {
             "outlinewidth": 0,
             "ticks": ""
            },
            "colorscale": [
             [
              0,
              "#0d0887"
             ],
             [
              0.1111111111111111,
              "#46039f"
             ],
             [
              0.2222222222222222,
              "#7201a8"
             ],
             [
              0.3333333333333333,
              "#9c179e"
             ],
             [
              0.4444444444444444,
              "#bd3786"
             ],
             [
              0.5555555555555556,
              "#d8576b"
             ],
             [
              0.6666666666666666,
              "#ed7953"
             ],
             [
              0.7777777777777778,
              "#fb9f3a"
             ],
             [
              0.8888888888888888,
              "#fdca26"
             ],
             [
              1,
              "#f0f921"
             ]
            ],
            "type": "surface"
           }
          ],
          "table": [
           {
            "cells": {
             "fill": {
              "color": "#EBF0F8"
             },
             "line": {
              "color": "white"
             }
            },
            "header": {
             "fill": {
              "color": "#C8D4E3"
             },
             "line": {
              "color": "white"
             }
            },
            "type": "table"
           }
          ]
         },
         "layout": {
          "annotationdefaults": {
           "arrowcolor": "#2a3f5f",
           "arrowhead": 0,
           "arrowwidth": 1
          },
          "autotypenumbers": "strict",
          "coloraxis": {
           "colorbar": {
            "outlinewidth": 0,
            "ticks": ""
           }
          },
          "colorscale": {
           "diverging": [
            [
             0,
             "#8e0152"
            ],
            [
             0.1,
             "#c51b7d"
            ],
            [
             0.2,
             "#de77ae"
            ],
            [
             0.3,
             "#f1b6da"
            ],
            [
             0.4,
             "#fde0ef"
            ],
            [
             0.5,
             "#f7f7f7"
            ],
            [
             0.6,
             "#e6f5d0"
            ],
            [
             0.7,
             "#b8e186"
            ],
            [
             0.8,
             "#7fbc41"
            ],
            [
             0.9,
             "#4d9221"
            ],
            [
             1,
             "#276419"
            ]
           ],
           "sequential": [
            [
             0,
             "#0d0887"
            ],
            [
             0.1111111111111111,
             "#46039f"
            ],
            [
             0.2222222222222222,
             "#7201a8"
            ],
            [
             0.3333333333333333,
             "#9c179e"
            ],
            [
             0.4444444444444444,
             "#bd3786"
            ],
            [
             0.5555555555555556,
             "#d8576b"
            ],
            [
             0.6666666666666666,
             "#ed7953"
            ],
            [
             0.7777777777777778,
             "#fb9f3a"
            ],
            [
             0.8888888888888888,
             "#fdca26"
            ],
            [
             1,
             "#f0f921"
            ]
           ],
           "sequentialminus": [
            [
             0,
             "#0d0887"
            ],
            [
             0.1111111111111111,
             "#46039f"
            ],
            [
             0.2222222222222222,
             "#7201a8"
            ],
            [
             0.3333333333333333,
             "#9c179e"
            ],
            [
             0.4444444444444444,
             "#bd3786"
            ],
            [
             0.5555555555555556,
             "#d8576b"
            ],
            [
             0.6666666666666666,
             "#ed7953"
            ],
            [
             0.7777777777777778,
             "#fb9f3a"
            ],
            [
             0.8888888888888888,
             "#fdca26"
            ],
            [
             1,
             "#f0f921"
            ]
           ]
          },
          "colorway": [
           "#636efa",
           "#EF553B",
           "#00cc96",
           "#ab63fa",
           "#FFA15A",
           "#19d3f3",
           "#FF6692",
           "#B6E880",
           "#FF97FF",
           "#FECB52"
          ],
          "font": {
           "color": "#2a3f5f"
          },
          "geo": {
           "bgcolor": "white",
           "lakecolor": "white",
           "landcolor": "#E5ECF6",
           "showlakes": true,
           "showland": true,
           "subunitcolor": "white"
          },
          "hoverlabel": {
           "align": "left"
          },
          "hovermode": "closest",
          "mapbox": {
           "style": "light"
          },
          "paper_bgcolor": "white",
          "plot_bgcolor": "#E5ECF6",
          "polar": {
           "angularaxis": {
            "gridcolor": "white",
            "linecolor": "white",
            "ticks": ""
           },
           "bgcolor": "#E5ECF6",
           "radialaxis": {
            "gridcolor": "white",
            "linecolor": "white",
            "ticks": ""
           }
          },
          "scene": {
           "xaxis": {
            "backgroundcolor": "#E5ECF6",
            "gridcolor": "white",
            "gridwidth": 2,
            "linecolor": "white",
            "showbackground": true,
            "ticks": "",
            "zerolinecolor": "white"
           },
           "yaxis": {
            "backgroundcolor": "#E5ECF6",
            "gridcolor": "white",
            "gridwidth": 2,
            "linecolor": "white",
            "showbackground": true,
            "ticks": "",
            "zerolinecolor": "white"
           },
           "zaxis": {
            "backgroundcolor": "#E5ECF6",
            "gridcolor": "white",
            "gridwidth": 2,
            "linecolor": "white",
            "showbackground": true,
            "ticks": "",
            "zerolinecolor": "white"
           }
          },
          "shapedefaults": {
           "line": {
            "color": "#2a3f5f"
           }
          },
          "ternary": {
           "aaxis": {
            "gridcolor": "white",
            "linecolor": "white",
            "ticks": ""
           },
           "baxis": {
            "gridcolor": "white",
            "linecolor": "white",
            "ticks": ""
           },
           "bgcolor": "#E5ECF6",
           "caxis": {
            "gridcolor": "white",
            "linecolor": "white",
            "ticks": ""
           }
          },
          "title": {
           "x": 0.05
          },
          "xaxis": {
           "automargin": true,
           "gridcolor": "white",
           "linecolor": "white",
           "ticks": "",
           "title": {
            "standoff": 15
           },
           "zerolinecolor": "white",
           "zerolinewidth": 2
          },
          "yaxis": {
           "automargin": true,
           "gridcolor": "white",
           "linecolor": "white",
           "ticks": "",
           "title": {
            "standoff": 15
           },
           "zerolinecolor": "white",
           "zerolinewidth": 2
          }
         }
        },
        "width": 1024
       }
      },
      "text/html": [
       "<div>                            <div id=\"16698726-b2af-4894-902e-f0a94deba1db\" class=\"plotly-graph-div\" style=\"height:768px; width:1024px;\"></div>            <script type=\"text/javascript\">                require([\"plotly\"], function(Plotly) {                    window.PLOTLYENV=window.PLOTLYENV || {};                                    if (document.getElementById(\"16698726-b2af-4894-902e-f0a94deba1db\")) {                    Plotly.newPlot(                        \"16698726-b2af-4894-902e-f0a94deba1db\",                        [{\"mode\": \"lines\", \"name\": \"2412\", \"type\": \"scatter3d\", \"x\": [20.437, 18.2468, 16.3122, 15.7967, 15.2815, 14.22, 12.0644, 10.0049, 7.97697, 5.8516699999999995, 3.75774, 1.66304, -0.174796, -2.30335, -4.2074, -6.43433, -8.436869999999999], \"y\": [12, 12, 12, 12, 12, 12, 12, 12, 12, 12, 12, 12, 12, 12, 12, 12, 12], \"z\": [1.13378, 1.20896, 1.50956, 1.5650899999999999, 1.59448, 1.5275299999999998, 1.39849, 1.24328, 1.04388, 0.8558549999999999, 0.6481279999999999, 0.456683, 0.245518, 0.047369999999999995, -0.180351, -0.37538699999999997, -0.604937]}, {\"mode\": \"lines\", \"name\": \"2415\", \"type\": \"scatter3d\", \"x\": [24.5425, 22.25, 20.3808, 18.4806, 16.354, 14.3556, 12.215, 8.09102, 6.04403, 4.06195, 0.030664999999999998, -4.3570199999999994, -6.14473, -8.25716, -10.2081], \"y\": [15, 15, 15, 15, 15, 15, 15, 15, 15, 15, 15, 15, 15, 15, 15], \"z\": [1.01519, 0.9940180000000001, 1.05518, 1.1576, 1.27824, 1.40555, 1.28869, 0.9707629999999999, 0.7878649999999999, 0.609905, 0.188046, -0.243666, -0.426558, -0.632517, -0.868094]}, {\"mode\": \"lines\", \"name\": \"2418\", \"type\": \"scatter3d\", \"x\": [20.3625, 18.3822, 16.3741, 14.465, 12.1286, 10.2432, 7.9718100000000005, 6.1199699999999995, 4.01054, 1.89973, -0.36822699999999997, -2.25083, -4.22618, -8.14611, -10.054, -12.4098], \"y\": [18, 18, 18, 18, 18, 18, 18, 18, 18, 18, 18, 18, 18, 18, 18, 18], \"z\": [1.21949, 1.21769, 1.28518, 1.36582, 1.28977, 1.13471, 1.00442, 0.828117, 0.650263, 0.41819300000000004, 0.24552100000000002, 0.010402, -0.165363, -0.611953, -0.7923399999999999, -0.9478610000000001]}, {\"mode\": \"lines\", \"name\": \"2421\", \"type\": \"scatter3d\", \"x\": [24.5153, 22.2958, 20.3064, 18.1859, 16.2885, 14.0713, 12.2656, 10.0043, 8.194469999999999, 6.05719, 4.08245, 1.91192, -0.031767000000000004, -2.17022, -3.98794, -6.16096, -10.3102, -12.2569, -14.3966], \"y\": [21, 21, 21, 21, 21, 21, 21, 21, 21, 21, 21, 21, 21, 21, 21, 21, 21, 21, 21], \"z\": [1.0831, 1.06184, 1.1313600000000001, 1.16953, 1.1796200000000001, 1.22938, 1.17339, 1.03979, 0.92595, 0.726202, 0.557802, 0.35303, 0.176306, -0.018619999999999998, -0.235073, -0.458164, -0.8284229999999999, -1.02186, -1.20211]}, {\"mode\": \"lines\", \"name\": \"2424\", \"type\": \"scatter3d\", \"x\": [20.3504, 18.1072, 16.0232, 15.061, 14.0023, 12.2369, 9.8276, 7.962680000000001, 5.83892, 3.90656, 3.97039, 1.8106400000000002, -0.125803, -2.4186900000000002, -4.19674, -8.40467, -10.3815, -12.3272, -14.5001], \"y\": [24, 24, 24, 24, 24, 24, 24, 24, 24, 24, 24, 24, 24, 24, 24, 24, 24, 24, 24], \"z\": [1.09223, 1.1280299999999999, 1.15571, 1.17687, 1.18502, 1.12805, 1.00098, 0.8672979999999999, 0.7220850000000001, 0.578396, 0.529442, 0.359468, 0.159959, -0.031604, -0.198719, -0.5842579999999999, -0.751854, -0.9064610000000001, -1.0186]}],                        {\"height\": 768, \"legend\": {\"font\": {\"size\": 12}, \"itemsizing\": \"trace\", \"title\": {\"text\": \"Data\"}}, \"margin\": {\"b\": 0, \"l\": 0, \"r\": 0, \"t\": 0}, \"scene\": {\"camera\": {\"eye\": {\"x\": 0.1, \"y\": -2, \"z\": 0.1}}, \"xaxis\": {\"title\": {\"text\": \"Alpha\"}}, \"yaxis\": {\"title\": {\"text\": \"Thickness\"}}, \"zaxis\": {\"title\": {\"text\": \"Cz\"}}}, \"template\": {\"data\": {\"bar\": [{\"error_x\": {\"color\": \"#2a3f5f\"}, \"error_y\": {\"color\": \"#2a3f5f\"}, \"marker\": {\"line\": {\"color\": \"#E5ECF6\", \"width\": 0.5}}, \"type\": \"bar\"}], \"barpolar\": [{\"marker\": {\"line\": {\"color\": \"#E5ECF6\", \"width\": 0.5}}, \"type\": \"barpolar\"}], \"carpet\": [{\"aaxis\": {\"endlinecolor\": \"#2a3f5f\", \"gridcolor\": \"white\", \"linecolor\": \"white\", \"minorgridcolor\": \"white\", \"startlinecolor\": \"#2a3f5f\"}, \"baxis\": {\"endlinecolor\": \"#2a3f5f\", \"gridcolor\": \"white\", \"linecolor\": \"white\", \"minorgridcolor\": \"white\", \"startlinecolor\": \"#2a3f5f\"}, \"type\": \"carpet\"}], \"choropleth\": [{\"colorbar\": {\"outlinewidth\": 0, \"ticks\": \"\"}, \"type\": \"choropleth\"}], \"contour\": [{\"colorbar\": {\"outlinewidth\": 0, \"ticks\": \"\"}, \"colorscale\": [[0.0, \"#0d0887\"], [0.1111111111111111, \"#46039f\"], [0.2222222222222222, \"#7201a8\"], [0.3333333333333333, \"#9c179e\"], [0.4444444444444444, \"#bd3786\"], [0.5555555555555556, \"#d8576b\"], [0.6666666666666666, \"#ed7953\"], [0.7777777777777778, \"#fb9f3a\"], [0.8888888888888888, \"#fdca26\"], [1.0, \"#f0f921\"]], \"type\": \"contour\"}], \"contourcarpet\": [{\"colorbar\": {\"outlinewidth\": 0, \"ticks\": \"\"}, \"type\": \"contourcarpet\"}], \"heatmap\": [{\"colorbar\": {\"outlinewidth\": 0, \"ticks\": \"\"}, \"colorscale\": [[0.0, \"#0d0887\"], [0.1111111111111111, \"#46039f\"], [0.2222222222222222, \"#7201a8\"], [0.3333333333333333, \"#9c179e\"], [0.4444444444444444, \"#bd3786\"], [0.5555555555555556, \"#d8576b\"], [0.6666666666666666, \"#ed7953\"], [0.7777777777777778, \"#fb9f3a\"], [0.8888888888888888, \"#fdca26\"], [1.0, \"#f0f921\"]], \"type\": \"heatmap\"}], \"heatmapgl\": [{\"colorbar\": {\"outlinewidth\": 0, \"ticks\": \"\"}, \"colorscale\": [[0.0, \"#0d0887\"], [0.1111111111111111, \"#46039f\"], [0.2222222222222222, \"#7201a8\"], [0.3333333333333333, \"#9c179e\"], [0.4444444444444444, \"#bd3786\"], [0.5555555555555556, \"#d8576b\"], [0.6666666666666666, \"#ed7953\"], [0.7777777777777778, \"#fb9f3a\"], [0.8888888888888888, \"#fdca26\"], [1.0, \"#f0f921\"]], \"type\": \"heatmapgl\"}], \"histogram\": [{\"marker\": {\"colorbar\": {\"outlinewidth\": 0, \"ticks\": \"\"}}, \"type\": \"histogram\"}], \"histogram2d\": [{\"colorbar\": {\"outlinewidth\": 0, \"ticks\": \"\"}, \"colorscale\": [[0.0, \"#0d0887\"], [0.1111111111111111, \"#46039f\"], [0.2222222222222222, \"#7201a8\"], [0.3333333333333333, \"#9c179e\"], [0.4444444444444444, \"#bd3786\"], [0.5555555555555556, \"#d8576b\"], [0.6666666666666666, \"#ed7953\"], [0.7777777777777778, \"#fb9f3a\"], [0.8888888888888888, \"#fdca26\"], [1.0, \"#f0f921\"]], \"type\": \"histogram2d\"}], \"histogram2dcontour\": [{\"colorbar\": {\"outlinewidth\": 0, \"ticks\": \"\"}, \"colorscale\": [[0.0, \"#0d0887\"], [0.1111111111111111, \"#46039f\"], [0.2222222222222222, \"#7201a8\"], [0.3333333333333333, \"#9c179e\"], [0.4444444444444444, \"#bd3786\"], [0.5555555555555556, \"#d8576b\"], [0.6666666666666666, \"#ed7953\"], [0.7777777777777778, \"#fb9f3a\"], [0.8888888888888888, \"#fdca26\"], [1.0, \"#f0f921\"]], \"type\": \"histogram2dcontour\"}], \"mesh3d\": [{\"colorbar\": {\"outlinewidth\": 0, \"ticks\": \"\"}, \"type\": \"mesh3d\"}], \"parcoords\": [{\"line\": {\"colorbar\": {\"outlinewidth\": 0, \"ticks\": \"\"}}, \"type\": \"parcoords\"}], \"pie\": [{\"automargin\": true, \"type\": \"pie\"}], \"scatter\": [{\"marker\": {\"colorbar\": {\"outlinewidth\": 0, \"ticks\": \"\"}}, \"type\": \"scatter\"}], \"scatter3d\": [{\"line\": {\"colorbar\": {\"outlinewidth\": 0, \"ticks\": \"\"}}, \"marker\": {\"colorbar\": {\"outlinewidth\": 0, \"ticks\": \"\"}}, \"type\": \"scatter3d\"}], \"scattercarpet\": [{\"marker\": {\"colorbar\": {\"outlinewidth\": 0, \"ticks\": \"\"}}, \"type\": \"scattercarpet\"}], \"scattergeo\": [{\"marker\": {\"colorbar\": {\"outlinewidth\": 0, \"ticks\": \"\"}}, \"type\": \"scattergeo\"}], \"scattergl\": [{\"marker\": {\"colorbar\": {\"outlinewidth\": 0, \"ticks\": \"\"}}, \"type\": \"scattergl\"}], \"scattermapbox\": [{\"marker\": {\"colorbar\": {\"outlinewidth\": 0, \"ticks\": \"\"}}, \"type\": \"scattermapbox\"}], \"scatterpolar\": [{\"marker\": {\"colorbar\": {\"outlinewidth\": 0, \"ticks\": \"\"}}, \"type\": \"scatterpolar\"}], \"scatterpolargl\": [{\"marker\": {\"colorbar\": {\"outlinewidth\": 0, \"ticks\": \"\"}}, \"type\": \"scatterpolargl\"}], \"scatterternary\": [{\"marker\": {\"colorbar\": {\"outlinewidth\": 0, \"ticks\": \"\"}}, \"type\": \"scatterternary\"}], \"surface\": [{\"colorbar\": {\"outlinewidth\": 0, \"ticks\": \"\"}, \"colorscale\": [[0.0, \"#0d0887\"], [0.1111111111111111, \"#46039f\"], [0.2222222222222222, \"#7201a8\"], [0.3333333333333333, \"#9c179e\"], [0.4444444444444444, \"#bd3786\"], [0.5555555555555556, \"#d8576b\"], [0.6666666666666666, \"#ed7953\"], [0.7777777777777778, \"#fb9f3a\"], [0.8888888888888888, \"#fdca26\"], [1.0, \"#f0f921\"]], \"type\": \"surface\"}], \"table\": [{\"cells\": {\"fill\": {\"color\": \"#EBF0F8\"}, \"line\": {\"color\": \"white\"}}, \"header\": {\"fill\": {\"color\": \"#C8D4E3\"}, \"line\": {\"color\": \"white\"}}, \"type\": \"table\"}]}, \"layout\": {\"annotationdefaults\": {\"arrowcolor\": \"#2a3f5f\", \"arrowhead\": 0, \"arrowwidth\": 1}, \"autotypenumbers\": \"strict\", \"coloraxis\": {\"colorbar\": {\"outlinewidth\": 0, \"ticks\": \"\"}}, \"colorscale\": {\"diverging\": [[0, \"#8e0152\"], [0.1, \"#c51b7d\"], [0.2, \"#de77ae\"], [0.3, \"#f1b6da\"], [0.4, \"#fde0ef\"], [0.5, \"#f7f7f7\"], [0.6, \"#e6f5d0\"], [0.7, \"#b8e186\"], [0.8, \"#7fbc41\"], [0.9, \"#4d9221\"], [1, \"#276419\"]], \"sequential\": [[0.0, \"#0d0887\"], [0.1111111111111111, \"#46039f\"], [0.2222222222222222, \"#7201a8\"], [0.3333333333333333, \"#9c179e\"], [0.4444444444444444, \"#bd3786\"], [0.5555555555555556, \"#d8576b\"], [0.6666666666666666, \"#ed7953\"], [0.7777777777777778, \"#fb9f3a\"], [0.8888888888888888, \"#fdca26\"], [1.0, \"#f0f921\"]], \"sequentialminus\": [[0.0, \"#0d0887\"], [0.1111111111111111, \"#46039f\"], [0.2222222222222222, \"#7201a8\"], [0.3333333333333333, \"#9c179e\"], [0.4444444444444444, \"#bd3786\"], [0.5555555555555556, \"#d8576b\"], [0.6666666666666666, \"#ed7953\"], [0.7777777777777778, \"#fb9f3a\"], [0.8888888888888888, \"#fdca26\"], [1.0, \"#f0f921\"]]}, \"colorway\": [\"#636efa\", \"#EF553B\", \"#00cc96\", \"#ab63fa\", \"#FFA15A\", \"#19d3f3\", \"#FF6692\", \"#B6E880\", \"#FF97FF\", \"#FECB52\"], \"font\": {\"color\": \"#2a3f5f\"}, \"geo\": {\"bgcolor\": \"white\", \"lakecolor\": \"white\", \"landcolor\": \"#E5ECF6\", \"showlakes\": true, \"showland\": true, \"subunitcolor\": \"white\"}, \"hoverlabel\": {\"align\": \"left\"}, \"hovermode\": \"closest\", \"mapbox\": {\"style\": \"light\"}, \"paper_bgcolor\": \"white\", \"plot_bgcolor\": \"#E5ECF6\", \"polar\": {\"angularaxis\": {\"gridcolor\": \"white\", \"linecolor\": \"white\", \"ticks\": \"\"}, \"bgcolor\": \"#E5ECF6\", \"radialaxis\": {\"gridcolor\": \"white\", \"linecolor\": \"white\", \"ticks\": \"\"}}, \"scene\": {\"xaxis\": {\"backgroundcolor\": \"#E5ECF6\", \"gridcolor\": \"white\", \"gridwidth\": 2, \"linecolor\": \"white\", \"showbackground\": true, \"ticks\": \"\", \"zerolinecolor\": \"white\"}, \"yaxis\": {\"backgroundcolor\": \"#E5ECF6\", \"gridcolor\": \"white\", \"gridwidth\": 2, \"linecolor\": \"white\", \"showbackground\": true, \"ticks\": \"\", \"zerolinecolor\": \"white\"}, \"zaxis\": {\"backgroundcolor\": \"#E5ECF6\", \"gridcolor\": \"white\", \"gridwidth\": 2, \"linecolor\": \"white\", \"showbackground\": true, \"ticks\": \"\", \"zerolinecolor\": \"white\"}}, \"shapedefaults\": {\"line\": {\"color\": \"#2a3f5f\"}}, \"ternary\": {\"aaxis\": {\"gridcolor\": \"white\", \"linecolor\": \"white\", \"ticks\": \"\"}, \"baxis\": {\"gridcolor\": \"white\", \"linecolor\": \"white\", \"ticks\": \"\"}, \"bgcolor\": \"#E5ECF6\", \"caxis\": {\"gridcolor\": \"white\", \"linecolor\": \"white\", \"ticks\": \"\"}}, \"title\": {\"x\": 0.05}, \"xaxis\": {\"automargin\": true, \"gridcolor\": \"white\", \"linecolor\": \"white\", \"ticks\": \"\", \"title\": {\"standoff\": 15}, \"zerolinecolor\": \"white\", \"zerolinewidth\": 2}, \"yaxis\": {\"automargin\": true, \"gridcolor\": \"white\", \"linecolor\": \"white\", \"ticks\": \"\", \"title\": {\"standoff\": 15}, \"zerolinecolor\": \"white\", \"zerolinewidth\": 2}}}, \"width\": 1024},                        {\"responsive\": true}                    ).then(function(){\n",
       "                            \n",
       "var gd = document.getElementById('16698726-b2af-4894-902e-f0a94deba1db');\n",
       "var x = new MutationObserver(function (mutations, observer) {{\n",
       "        var display = window.getComputedStyle(gd).display;\n",
       "        if (!display || display === 'none') {{\n",
       "            console.log([gd, 'removed!']);\n",
       "            Plotly.purge(gd);\n",
       "            observer.disconnect();\n",
       "        }}\n",
       "}});\n",
       "\n",
       "// Listen for the removal of the full notebook cells\n",
       "var notebookContainer = gd.closest('#notebook-container');\n",
       "if (notebookContainer) {{\n",
       "    x.observe(notebookContainer, {childList: true});\n",
       "}}\n",
       "\n",
       "// Listen for the clearing of the current output cell\n",
       "var outputEl = gd.closest('.output');\n",
       "if (outputEl) {{\n",
       "    x.observe(outputEl, {childList: true});\n",
       "}}\n",
       "\n",
       "                        })                };                });            </script>        </div>"
      ]
     },
     "metadata": {},
     "output_type": "display_data"
    }
   ],
   "source": [
    "plot3d()"
   ]
  },
  {
   "cell_type": "code",
   "execution_count": 0,
   "metadata": {},
   "outputs": [],
   "source": []
  }
 ],
 "metadata": {
  "kernelspec": {
   "display_name": "Python 3",
   "language": "python",
   "name": "python3"
  },
  "language_info": {
   "codemirror_mode": {
    "name": "ipython",
    "version": 3
   },
   "file_extension": ".py",
   "mimetype": "text/x-python",
   "name": "python",
   "nbconvert_exporter": "python",
   "pygments_lexer": "ipython3",
   "version": "3.8.3-final"
  }
 },
 "nbformat": 4,
 "nbformat_minor": 4
}